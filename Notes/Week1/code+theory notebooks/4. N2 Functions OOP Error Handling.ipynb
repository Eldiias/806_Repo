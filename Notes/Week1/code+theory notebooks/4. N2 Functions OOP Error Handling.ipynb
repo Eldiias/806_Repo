{
 "cells": [
  {
   "cell_type": "markdown",
   "metadata": {
    "toc": true
   },
   "source": [
    "<h1>Table of Contents<span class=\"tocSkip\"></span></h1>\n",
    "<div class=\"toc\"><ul class=\"toc-item\"><li><span><a href=\"#Major-Programming-Paradigms\" data-toc-modified-id=\"Major-Programming-Paradigms-1\"><span class=\"toc-item-num\">1&nbsp;&nbsp;</span>Major Programming Paradigms</a></span><ul class=\"toc-item\"><li><span><a href=\"#Imperative-programming\" data-toc-modified-id=\"Imperative-programming-1.1\"><span class=\"toc-item-num\">1.1&nbsp;&nbsp;</span>Imperative programming</a></span><ul class=\"toc-item\"><li><span><a href=\"#Procedural-programming\" data-toc-modified-id=\"Procedural-programming-1.1.1\"><span class=\"toc-item-num\">1.1.1&nbsp;&nbsp;</span>Procedural programming</a></span></li></ul></li><li><span><a href=\"#Declarative-programming\" data-toc-modified-id=\"Declarative-programming-1.2\"><span class=\"toc-item-num\">1.2&nbsp;&nbsp;</span>Declarative programming</a></span><ul class=\"toc-item\"><li><span><a href=\"#Functional-Programming\" data-toc-modified-id=\"Functional-Programming-1.2.1\"><span class=\"toc-item-num\">1.2.1&nbsp;&nbsp;</span>Functional Programming</a></span></li><li><span><a href=\"#Example\" data-toc-modified-id=\"Example-1.2.2\"><span class=\"toc-item-num\">1.2.2&nbsp;&nbsp;</span>Example</a></span></li></ul></li><li><span><a href=\"#Object-Oriented-Programming\" data-toc-modified-id=\"Object-Oriented-Programming-1.3\"><span class=\"toc-item-num\">1.3&nbsp;&nbsp;</span>Object Oriented Programming</a></span><ul class=\"toc-item\"><li><span><a href=\"#Example\" data-toc-modified-id=\"Example-1.3.1\"><span class=\"toc-item-num\">1.3.1&nbsp;&nbsp;</span>Example</a></span></li></ul></li><li><span><a href=\"#When-to-Use-Functional-vs.-OOP\" data-toc-modified-id=\"When-to-Use-Functional-vs.-OOP-1.4\"><span class=\"toc-item-num\">1.4&nbsp;&nbsp;</span>When to Use Functional vs. OOP</a></span></li></ul></li><li><span><a href=\"#Error-Handling\" data-toc-modified-id=\"Error-Handling-2\"><span class=\"toc-item-num\">2&nbsp;&nbsp;</span>Error Handling</a></span><ul class=\"toc-item\"><li><span><a href=\"#Why-do-we-care?\" data-toc-modified-id=\"Why-do-we-care?-2.1\"><span class=\"toc-item-num\">2.1&nbsp;&nbsp;</span>Why do we care?</a></span></li><li><span><a href=\"#What-do-I-do-then?\" data-toc-modified-id=\"What-do-I-do-then?-2.2\"><span class=\"toc-item-num\">2.2&nbsp;&nbsp;</span>What do I do then?</a></span><ul class=\"toc-item\"><li><span><a href=\"#Full-error-handler\" data-toc-modified-id=\"Full-error-handler-2.2.1\"><span class=\"toc-item-num\">2.2.1&nbsp;&nbsp;</span>Full error handler</a></span></li><li><span><a href=\"#Try-Except-Finally\" data-toc-modified-id=\"Try-Except-Finally-2.2.2\"><span class=\"toc-item-num\">2.2.2&nbsp;&nbsp;</span>Try Except Finally</a></span></li></ul></li><li><span><a href=\"#Raise-your-own-error\" data-toc-modified-id=\"Raise-your-own-error-2.3\"><span class=\"toc-item-num\">2.3&nbsp;&nbsp;</span>Raise your own error</a></span></li></ul></li></ul></div>"
   ]
  },
  {
   "cell_type": "markdown",
   "metadata": {
    "heading_collapsed": true
   },
   "source": [
    "# Major Programming Paradigms\n",
    "\n",
    "There are different ways to write down the code. How do they differ? What is the core point of each of them and when to use each of them? We will discuss it below.\n",
    "\n",
    "Main paradigms of programming are following:\n",
    "* Imperative\n",
    "    - Procedural\n",
    "    - Object-Oriented\n",
    "* Declarative\n",
    "    - Functional\n",
    "    - Object-Oriented\n"
   ]
  },
  {
   "cell_type": "markdown",
   "metadata": {
    "hidden": true
   },
   "source": [
    "## Imperative programming\n",
    "\n",
    "Imperative programming answers the *'How'* question. You need to right down instructions for every single step of the process. Steps should be consecutive and wrong order might lead to different outcome.\n",
    "\n",
    "Example: Omelette recipe. According to [delish](https://www.delish.com/cooking/recipe-ideas/a24892843/how-to-make-omelet/) website the algorithm is following:\n",
    "> 1. In a medium bowl, beat eggs until no whites remain, then season with salt, pepper, and a pinch red pepper flakes.\n",
    "> 2. In a medium non-stick skillet over medium heat, melt butter. Pour in eggs and tilt pan so eggs fully cover the entire pan. As eggs start to set, use a rubber spatula to drag cooked edges into center of pan. Tilt pan to let uncooked egg fall to the edge of the pan. \n",
    "> 3. Once the bottom is set, but top is still a little wet, sprinkle cheese and chives on one half of omelet. Fold other side over cheese and slide omelet onto a plate.   \n",
    "\n",
    "If you follow wrong order you wont get an omelette. Same goes with imperative programming. "
   ]
  },
  {
   "cell_type": "markdown",
   "metadata": {
    "hidden": true
   },
   "source": [
    "### Procedural programming\n",
    "\n",
    "Procedural programming can be considered as synonim to imperative programming. You define every single procedure, providing concrete actions on every step of your algorithm. \n",
    "\n",
    "Example: calculate the length of a word 'computer'"
   ]
  },
  {
   "cell_type": "code",
   "execution_count": 1,
   "metadata": {
    "hidden": true
   },
   "outputs": [
    {
     "name": "stdout",
     "output_type": "stream",
     "text": [
      "8\n"
     ]
    }
   ],
   "source": [
    "word='computer'\n",
    "length=0\n",
    "\n",
    "for i in word:\n",
    "    length=length+1\n",
    "print(length)"
   ]
  },
  {
   "cell_type": "markdown",
   "metadata": {
    "hidden": true
   },
   "source": [
    "As you can see, in the code above we looped through each carachter of the given word and on every iteration we incremented the variable length by 1. \n",
    "\n",
    "Instructions were given explicitely. We defined all the operations needed to calculate the desired outcome. Every time we will need to repeat this operation, we simply redefine the same procedure (by following the basic rule of the Great [Missionary Church of Kopimism](https://en.wikipedia.org/wiki/Missionary_Church_of_Kopimism)).\n",
    "\n",
    "<img src='https://upload.wikimedia.org/wikipedia/commons/thumb/b/b1/Kopimizm.svg/220px-Kopimizm.svg.png'>"
   ]
  },
  {
   "cell_type": "markdown",
   "metadata": {
    "hidden": true
   },
   "source": [
    "The buity of procedural programming lays in processing speed and direct response to every operation. It allows to test your algorithms and define the workflow of your algorithm and develop it at the same time. It is a good first step into programming that leads to functional programming and OOP later on. "
   ]
  },
  {
   "cell_type": "markdown",
   "metadata": {
    "hidden": true
   },
   "source": [
    "## Declarative programming\n",
    "\n",
    "Declarative programming answers the 'What' question. You need to declare inputs and outputs. These are the only important parts of declarative programming. If your code (no matter whether it is 1 liner or 100 lines of code) given certain inputs can't produce desired outputs - it doesn't worth a penny. \n",
    "\n",
    "Example: Technical Interview. Usually you are sent a dataset with only 1 requirement - time. You are asked to prepare a data analytics based on this data. They don't require specific manipulations. Produce proper data analysis given certain data and time constraint."
   ]
  },
  {
   "cell_type": "markdown",
   "metadata": {
    "hidden": true
   },
   "source": [
    "### Functional Programming\n",
    "\n",
    "Functional programming can be considered as synonim to declarative programming. You define a function that implements a specific outcome given certain inputs. Every time you need to implement specific procedure you simply call the function, providing the arguments (inputs).\n",
    "\n",
    "Example: function that calculates the length of a given word."
   ]
  },
  {
   "cell_type": "code",
   "execution_count": 4,
   "metadata": {
    "hidden": true
   },
   "outputs": [
    {
     "name": "stdout",
     "output_type": "stream",
     "text": [
      "Length of the word computer is 8\n",
      "Length of the word automobile is 10\n",
      "Length of the word parachute is 9\n"
     ]
    }
   ],
   "source": [
    "def length_of_word(word):\n",
    "    length=0\n",
    "\n",
    "    for i in word:\n",
    "        length=length+1\n",
    "    print('Length of the word', word, 'is', length)\n",
    "    return length\n",
    "\n",
    "length_of_word('computer')\n",
    "\n",
    "length_of_word('automobile')\n",
    "\n",
    "length_of_parachute=length_of_word('parachute')"
   ]
  },
  {
   "cell_type": "markdown",
   "metadata": {
    "hidden": true
   },
   "source": [
    "As you can see, the function reimplements the same code we used in the previous example. Now it is wrapped into a function which allows us simply call it for every word we want. "
   ]
  },
  {
   "cell_type": "markdown",
   "metadata": {
    "hidden": true
   },
   "source": [
    "As told previously, procedural code is a good beginning for your programs. \n",
    "\n",
    "Consider yourself as an adventurer like Scrooge McDuck or Indiana Jones. Will you be following instructions step by step? Will you follow all the rules every single time or you will try to adapt to the situation no matter what is going on? What if something goes wrong? What if there is a trap full of pythons? You need to call a specific procedure (run) in your algorithm (treasure hunt) which can be omitted if there is no such a problem. Having in mind that you might meet such problems at any moment starting from finding the map until reaching back home. \n",
    "\n",
    "Here we obtain much more fun!\n",
    "\n",
    "Functional programming is useful in the following cases:\n",
    "1. Language can be fully functional language, eg: Lisp, Haskell, Visual Basic, etc.\n",
    "2. You have a fixed number of variables and you apply different operations to them.\n",
    "\n",
    "But what if you are not an adventurer like Scrooge McDuck anymore? You already gained all the treasure of this world and became the richest duck in the world and decided to invest into mobile phones industry. \n",
    "\n",
    "Your science team managed by Gyro Gearloose managed to create a stable mobile phone that doesn't want to conquer the world and destroy humanity. In Python world we defined a set of variables (they describe different attributes of mobile phone) and a list of functions you can apply to each of those variables (such as create a new contact, make a photo, make a phone call or send an sms). All of it is applied to this specific list of variables, to this specific phone. \n",
    "\n",
    "Let's be Gyro and define our simple mobile phone."
   ]
  },
  {
   "cell_type": "markdown",
   "metadata": {
    "heading_collapsed": true,
    "hidden": true
   },
   "source": [
    "### Example"
   ]
  },
  {
   "cell_type": "code",
   "execution_count": 63,
   "metadata": {
    "hidden": true
   },
   "outputs": [],
   "source": [
    "#First of all lets define all the variables needed to keep track\n",
    "\n",
    "contact_list={'Huey':33761111111, 'Dewey':33762222222, 'Louie':33763333333}\n",
    "received_calls=[]\n",
    "made_calls=[]\n",
    "received_sms={}\n",
    "sent_sms={}\n",
    "library_of_photos=[]"
   ]
  },
  {
   "cell_type": "markdown",
   "metadata": {
    "hidden": true
   },
   "source": [
    "Python's functions are defined in the following way:\n",
    "```python\n",
    "def function_name(mandatory_argument1, mandatory_argument2, optional_argument1=default_value_for_it):\n",
    "    the body of your function - what exactly should be done with your arguments\n",
    "    \n",
    "    return output - finishes the function execution and outputs a value (tuple if multiple)\n",
    "```"
   ]
  },
  {
   "cell_type": "code",
   "execution_count": 64,
   "metadata": {
    "hidden": true
   },
   "outputs": [],
   "source": [
    "# Now lets define some functions\n",
    "\n",
    "def add_contact(name, phone_number, contact_list=contact_list):\n",
    "    if name in contact_list.keys(): #check if the name is saved already. If it is, we will overwrite the name :(\n",
    "        print('Sorry, this name is occupied already')\n",
    "    else:\n",
    "        contact_list[name]=phone_number # we coudn't find a specified name - noone will be overwritten :Hooray: \n",
    "    return contact_list\n",
    "\n",
    "def remove_contact(name, contact_list=contact_list):\n",
    "    if name in contact_list: #check if name exists in the contact list\n",
    "        del contact_list[name] # remove if yes\n",
    "    else:\n",
    "        print('You don\\'t have this name in your contact list. Nothing has changed') # there is noone to remove\n",
    "    return contact_list\n",
    "\n",
    "def make_a_call(phone_number, made_calls=made_calls, contact_list=contact_list):\n",
    "    if phone_number in contact_list.values(): #get the name of a person we are dialing first\n",
    "        name=[i for i,j in contact_list.items() if j==phone_number][0] #save the name if the number is saved\n",
    "    else:\n",
    "        name=str(phone_number) #just save the phone number since we dont know this person\n",
    "    print('Dialing',name)\n",
    "    made_calls.append(name) # add the name/phone number into list of made calls\n",
    "    return made_calls\n",
    "\n",
    "def receive_a_call(phone_number, received_calls=received_calls, contact_list=contact_list):\n",
    "    if phone_number in contact_list.values(): #get the name of a person we are dialing first\n",
    "        name=[i for i,j in contact_list.items() if j==phone_number][0] #save the name if the number is saved\n",
    "    else:\n",
    "        name=str(phone_number) #just save the phone number since we dont know this person\n",
    "    print(name,'is dialing')\n",
    "    received_calls.append(name) # add the name/phone number into list of made calls\n",
    "    return received_calls\n",
    "\n",
    "def send_an_sms(phone_number, text, sent_sms=sent_sms, contact_list=contact_list):\n",
    "    if phone_number in contact_list.values(): #get the name of a person we are dialing first\n",
    "        name=[i for i,j in contact_list.items() if j==phone_number][0] #save the name if the number is saved\n",
    "    else:\n",
    "        name=str(phone_number) #just save the phone number since we dont know this person\n",
    "    print('Sending a SMS to',name)\n",
    "    \n",
    "    new_index=len(sent_sms.keys())+1  #get an index of sms (hystorical, could represent a date)\n",
    "    sent_sms[new_index]={name:text} #save an sms\n",
    "    return sent_sms\n",
    "\n",
    "def receive_an_sms(phone_number, received_sms=received_sms, contact_list=contact_list):\n",
    "    if phone_number in contact_list.values(): #get the name of a person we are dialing first\n",
    "        name=[i for i,j in contact_list.items() if j==phone_number][0] #save the name if the number is saved\n",
    "    else:\n",
    "        name=str(phone_number) #just save the phone number since we dont know this person\n",
    "    print('New SMS from',name)\n",
    "\n",
    "    new_index=len(received_sms.keys())+1  #get an index of sms (hystorical, could represent a date)\n",
    "    received_sms[new_index]={name:'Dear Uncle Scrooge...'} #save an sms\n",
    "    return received_sms\n",
    "\n",
    "#no arguments are also possible solution, but in order to use our library we need to turn it into global variable\n",
    "def make_a_photo(): \n",
    "    global library_of_photos #now all the changes we made to our variable in the function are applied outside\n",
    "    new_index=len(library_of_photos)+1\n",
    "    library_of_photos.append(f'{new_index}.png')\n",
    "    return "
   ]
  },
  {
   "cell_type": "code",
   "execution_count": 65,
   "metadata": {
    "hidden": true
   },
   "outputs": [
    {
     "name": "stdout",
     "output_type": "stream",
     "text": [
      "{'Huey': 33761111111, 'Dewey': 33762222222, 'Louie': 33763333333}\n",
      "{'Huey': 33761111111, 'Dewey': 33762222222, 'Louie': 33763333333, 'Launchpad McQuack': 33764444444}\n"
     ]
    }
   ],
   "source": [
    "# And it is time to test them!\n",
    "\n",
    "print(contact_list)\n",
    "contact_list=add_contact('Launchpad McQuack',33764444444)\n",
    "print(contact_list)"
   ]
  },
  {
   "cell_type": "code",
   "execution_count": 66,
   "metadata": {
    "hidden": true
   },
   "outputs": [
    {
     "name": "stdout",
     "output_type": "stream",
     "text": [
      "{'Huey': 33761111111, 'Dewey': 33762222222, 'Louie': 33763333333, 'Launchpad McQuack': 33764444444}\n",
      "Sorry, this name is occupied already\n",
      "{'Huey': 33761111111, 'Dewey': 33762222222, 'Louie': 33763333333, 'Launchpad McQuack': 33764444444}\n"
     ]
    }
   ],
   "source": [
    "# Let's try to add Launchpad once again\n",
    "\n",
    "print(contact_list)\n",
    "contact_list=add_contact('Launchpad McQuack',33764444444)\n",
    "print(contact_list)"
   ]
  },
  {
   "cell_type": "code",
   "execution_count": 67,
   "metadata": {
    "hidden": true
   },
   "outputs": [
    {
     "name": "stdout",
     "output_type": "stream",
     "text": [
      "{'Huey': 33761111111, 'Dewey': 33762222222, 'Louie': 33763333333}\n"
     ]
    }
   ],
   "source": [
    "#Remove Launchpad\n",
    "\n",
    "contact_list=remove_contact('Launchpad McQuack')\n",
    "print(contact_list)"
   ]
  },
  {
   "cell_type": "code",
   "execution_count": 68,
   "metadata": {
    "hidden": true
   },
   "outputs": [
    {
     "name": "stdout",
     "output_type": "stream",
     "text": [
      "You don't have this name in your contact list. Nothing has changed\n",
      "{'Huey': 33761111111, 'Dewey': 33762222222, 'Louie': 33763333333}\n"
     ]
    }
   ],
   "source": [
    "#Remove Launchpad again\n",
    "\n",
    "contact_list=remove_contact('Launchpad McQuack')\n",
    "print(contact_list)"
   ]
  },
  {
   "cell_type": "code",
   "execution_count": 69,
   "metadata": {
    "hidden": true
   },
   "outputs": [
    {
     "name": "stdout",
     "output_type": "stream",
     "text": [
      "Dialing Dewey\n",
      "['Dewey']\n"
     ]
    }
   ],
   "source": [
    "#Make a call to Dewey\n",
    "made_calls=make_a_call(33762222222)\n",
    "print(made_calls)"
   ]
  },
  {
   "cell_type": "code",
   "execution_count": 70,
   "metadata": {
    "hidden": true
   },
   "outputs": [
    {
     "name": "stdout",
     "output_type": "stream",
     "text": [
      "Dialing Huey\n",
      "['Dewey', 'Huey']\n"
     ]
    }
   ],
   "source": [
    "#Make a call to Huey\n",
    "made_calls=make_a_call(33761111111)\n",
    "print(made_calls)"
   ]
  },
  {
   "cell_type": "code",
   "execution_count": 71,
   "metadata": {
    "hidden": true
   },
   "outputs": [
    {
     "name": "stdout",
     "output_type": "stream",
     "text": [
      "Dialing 33764444444\n",
      "['Dewey', 'Huey', '33764444444']\n"
     ]
    }
   ],
   "source": [
    "#Make a call to Launchpad\n",
    "made_calls=make_a_call(33764444444)\n",
    "print(made_calls)"
   ]
  },
  {
   "cell_type": "code",
   "execution_count": 72,
   "metadata": {
    "hidden": true
   },
   "outputs": [
    {
     "name": "stdout",
     "output_type": "stream",
     "text": [
      "Louie is dialing\n",
      "['Louie']\n"
     ]
    }
   ],
   "source": [
    "#Receive a call from Louie\n",
    "received_calls=receive_a_call(33763333333)\n",
    "print(received_calls)"
   ]
  },
  {
   "cell_type": "code",
   "execution_count": 82,
   "metadata": {
    "hidden": true
   },
   "outputs": [
    {
     "name": "stdout",
     "output_type": "stream",
     "text": [
      "New SMS from Louie\n",
      "{1: {'Louie': 'Dear Uncle Scrooge...'}, 2: {'Louie': 'Dear Uncle Scrooge...'}, 3: {'Louie': 'Dear Uncle Scrooge...'}, 4: {'Louie': 'Dear Uncle Scrooge...'}}\n"
     ]
    }
   ],
   "source": [
    "received_sms=receive_an_sms(33763333333)\n",
    "print(received_sms)"
   ]
  },
  {
   "cell_type": "code",
   "execution_count": 83,
   "metadata": {
    "hidden": true
   },
   "outputs": [
    {
     "name": "stdout",
     "output_type": "stream",
     "text": [
      "Sending a SMS to 33764444444\n",
      "{1: {'33764444444': 'We are flying to Himalayas! I need you Launchpad!!!'}, 2: {'33764444444': 'We are flying to Himalayas! I need you Launchpad!!!'}, 3: {'33764444444': 'We are flying to Himalayas! I need you Launchpad!!!'}, 4: {'33764444444': 'We are flying to Himalayas! I need you Launchpad!!!'}}\n"
     ]
    }
   ],
   "source": [
    "sent_sms=send_an_sms(33764444444, 'We are flying to Himalayas! I need you Launchpad!!!')\n",
    "print(sent_sms)"
   ]
  },
  {
   "cell_type": "code",
   "execution_count": 87,
   "metadata": {
    "hidden": true
   },
   "outputs": [
    {
     "data": {
      "text/plain": [
       "['1.png', '2.png', '3.png']"
      ]
     },
     "execution_count": 87,
     "metadata": {},
     "output_type": "execute_result"
    }
   ],
   "source": [
    "make_a_photo()\n",
    "library_of_photos"
   ]
  },
  {
   "cell_type": "markdown",
   "metadata": {
    "hidden": true
   },
   "source": [
    "But Scrooge won't make any revenue without launching the production. We now need to create lots of mobile phones (objects with predefined attributes - lists of variables, and functions on them - methods). Here comes Object Oriented Programming"
   ]
  },
  {
   "cell_type": "markdown",
   "metadata": {
    "hidden": true
   },
   "source": [
    "## Object Oriented Programming"
   ]
  },
  {
   "cell_type": "markdown",
   "metadata": {
    "hidden": true
   },
   "source": [
    "You could notice that object oriented programming (OOP) was dedicated into both Imperative and Declarative paradigms. Why it is the case? Because OOP simply represents both and none of them at the same time. \n",
    "\n",
    "Saying that, what does that mean? How do we define develop OOP? \n",
    "\n",
    "OOP as it follows from the name itself is object oriented. We define objects and play around them. We can define procedures for the object both in imperative and declarative way. Nothing stops us from combining the two.\n",
    "\n",
    "Coming back to our example of bored for treasure hunt Scrooge. He decided to launch the production of mobile phones. We saw how to implement a mobile phone in functional way. Every function has it's set of arguments and output. Everything seems to be fine. But there are some icebergs under water.\n",
    "\n",
    "1. As you noticed, every time we need to define the list of variables we are working with even though they are related to the mobile phone. So, contact_list was mentioned everywhere.\n",
    "2. What if I want to make a call from Mr. Scrooge to Louie? It will appear on Mr. Scrooge's phone, but it won't appear on Louie's one. \n",
    "3. What about actual adding the Louie's phone? We will need to create new variables and indicate them as arguments for every function. This is not handy at all.\n",
    "\n",
    "What about OOP?"
   ]
  },
  {
   "cell_type": "markdown",
   "metadata": {
    "hidden": true
   },
   "source": [
    "In Python we define classes. Each class has it's own attributes (variables) and methods (functions). Apart from that, we can define global attributes for all objects of the same class. And yeah, it can be much more fun.\n",
    "\n",
    "Python's classes are defined in the following way:\n",
    "\n",
    "```python\n",
    "class class_name:\n",
    "    \n",
    "    global attributes are defined here\n",
    "    \n",
    "    def __init__(self, mandatory_argument1, mandatory_argument2, optional_argument1=default_value_for_it):\n",
    "        Then goes the initialization function. all local attributes of object are specified here.\n",
    "        You could notice the \"self\" argument in the function. It indicates the object itself. \n",
    "        It is mandatory argument whenever you want to work with the object itself.\n",
    "        It is not required to return anything\n",
    "    \n",
    "    def all_other_functions(self, arguments):\n",
    "        body of the function\n",
    "        \n",
    "```\n",
    "Let's redefine the class of mobile phones."
   ]
  },
  {
   "cell_type": "markdown",
   "metadata": {
    "heading_collapsed": true,
    "hidden": true
   },
   "source": [
    "### Example"
   ]
  },
  {
   "cell_type": "code",
   "execution_count": 100,
   "metadata": {
    "hidden": true
   },
   "outputs": [],
   "source": [
    "#define the class\n",
    "\n",
    "class MobilePhone:\n",
    "    #global arguments\n",
    "    \n",
    "    operating_system='DuckOS'\n",
    "    brand='McDuck Inc.'\n",
    "    \n",
    "    def __init__(self, owners_name, phone_number): #what needs to be defined for every mobile phone\n",
    "        # as you can see we add attributes to the object itself (self)\n",
    "        self.owner=owners_name\n",
    "        self.phone_number=phone_number\n",
    "        self.contact_list=dict()\n",
    "        self.received_calls=list()\n",
    "        self.made_calls=list()\n",
    "        self.received_sms=dict()\n",
    "        self.sent_sms=dict()\n",
    "        self.library_of_photos=list()\n",
    "\n",
    "    def add_contact(self, recipient): #self is here, contact_list is not\n",
    "        if recipient.owner in self.contact_list.keys(): #we get contact_list from the object attributes\n",
    "            print('Sorry, this name is occupied already')\n",
    "        else:\n",
    "            self.contact_list[recipient.owner]=recipient.phone_number\n",
    "        print('Operation is finished')\n",
    "\n",
    "    def remove_contact(self, recipient):\n",
    "        if recipient.owner in self.contact_list:\n",
    "            del self.contact_list[recipient.owner] \n",
    "        else:\n",
    "            print('You don\\'t have this name in your contact list. Nothing has changed')\n",
    "        print('Operation is finished')\n",
    "\n",
    "    def make_a_call(self, recipient): #we can dial only those who has mobile phone\n",
    "        if recipient.phone_number in self.contact_list.values():\n",
    "            name=recipient.owner\n",
    "        else:\n",
    "            name=str(recipient.phone_number)\n",
    "        print('Dialing',name)\n",
    "        self.made_calls.append(recipient.owner) # add the name/phone number into list of made calls\n",
    "\n",
    "        if self.phone_number in recipient.contact_list.values():\n",
    "            name_r=self.owner\n",
    "        else:\n",
    "            name_r=str(self.phone_number)\n",
    "            \n",
    "        recipient.received_calls.append(name_r) # add the name/phone number into list of received calls\n",
    "\n",
    "        \n",
    "        print('Operation is finished')\n",
    "\n",
    "    # since the receipt of a phone call stored in make_a_call method, there is no point of receiving a call as method\n",
    "\n",
    "    def send_an_sms(self, recipient, text):\n",
    "        if recipient.phone_number in self.contact_list.values(): \n",
    "            name=recipient.owner\n",
    "        else:\n",
    "            name=str(recipient.phone_number)\n",
    "        print('Sending a SMS to',name)\n",
    "\n",
    "        new_index=len(self.sent_sms.keys())+1  \n",
    "        self.sent_sms[new_index]={name:text} \n",
    "        \n",
    "        if self.phone_number in recipient.contact_list.values():\n",
    "            name_r=self.owner\n",
    "        else:\n",
    "            name_r=str(self.phone_number)\n",
    "        \n",
    "        new_index_r=len(recipient.received_sms.keys())+1 \n",
    "        recipient.received_sms[new_index_r]={name_r:text} \n",
    "        \n",
    "        print('Operation is finished')\n",
    "\n",
    "    # same as phone calls, no point of receiving the sms\n",
    "    \n",
    "    def make_a_photo(self): \n",
    "        new_index=len(self.library_of_photos)+1\n",
    "        self.library_of_photos.append(f'{new_index}.png') "
   ]
  },
  {
   "cell_type": "code",
   "execution_count": 112,
   "metadata": {
    "hidden": true
   },
   "outputs": [],
   "source": [
    "Scrooges_phone=MobilePhone('Scrooge McDuck',33760000000)"
   ]
  },
  {
   "cell_type": "code",
   "execution_count": 113,
   "metadata": {
    "hidden": true
   },
   "outputs": [],
   "source": [
    "Hueys_phone=MobilePhone('Huey',33761111111)\n",
    "Deweys_phone=MobilePhone('Dewey',33762222222)\n",
    "Louies_phone=MobilePhone('Louie',33763333333)\n",
    "Launchpads_phone=MobilePhone('Launchpad McQuack',33764444444)"
   ]
  },
  {
   "cell_type": "code",
   "execution_count": 114,
   "metadata": {
    "hidden": true
   },
   "outputs": [
    {
     "name": "stdout",
     "output_type": "stream",
     "text": [
      "McDuck Inc.\n",
      "McDuck Inc.\n",
      "McDuck Inc.\n",
      "McDuck Inc.\n",
      "McDuck Inc.\n",
      "\n",
      "DuckOS\n",
      "DuckOS\n",
      "DuckOS\n",
      "DuckOS\n",
      "DuckOS\n"
     ]
    }
   ],
   "source": [
    "#Let's check global arguments!\n",
    "print(Scrooges_phone.brand)\n",
    "print(Hueys_phone.brand)\n",
    "print(Deweys_phone.brand)\n",
    "print(Louies_phone.brand)\n",
    "print(Launchpads_phone.brand)\n",
    "\n",
    "print()\n",
    "\n",
    "print(Scrooges_phone.operating_system)\n",
    "print(Hueys_phone.operating_system)\n",
    "print(Deweys_phone.operating_system)\n",
    "print(Louies_phone.operating_system)\n",
    "print(Launchpads_phone.operating_system)"
   ]
  },
  {
   "cell_type": "code",
   "execution_count": 115,
   "metadata": {
    "hidden": true
   },
   "outputs": [
    {
     "name": "stdout",
     "output_type": "stream",
     "text": [
      "Operation is finished\n",
      "Operation is finished\n",
      "Operation is finished\n",
      "Operation is finished\n",
      "{'Huey': 33761111111, 'Dewey': 33762222222, 'Louie': 33763333333, 'Launchpad McQuack': 33764444444}\n"
     ]
    }
   ],
   "source": [
    "#Save all of them to Scrooge McDuck!\n",
    "Scrooges_phone.add_contact(Hueys_phone)\n",
    "Scrooges_phone.add_contact(Deweys_phone)\n",
    "Scrooges_phone.add_contact(Louies_phone)\n",
    "Scrooges_phone.add_contact(Launchpads_phone)\n",
    "\n",
    "print(Scrooges_phone.contact_list)"
   ]
  },
  {
   "cell_type": "code",
   "execution_count": 116,
   "metadata": {
    "hidden": true
   },
   "outputs": [
    {
     "data": {
      "text/plain": [
       "{}"
      ]
     },
     "execution_count": 116,
     "metadata": {},
     "output_type": "execute_result"
    }
   ],
   "source": [
    "# As we can see number was added only to Scrooge's phone and noone else knows about it!\n",
    "Hueys_phone.contact_list"
   ]
  },
  {
   "cell_type": "code",
   "execution_count": 117,
   "metadata": {
    "hidden": true
   },
   "outputs": [
    {
     "name": "stdout",
     "output_type": "stream",
     "text": [
      "Operation is finished\n",
      "{'Huey': 33761111111, 'Dewey': 33762222222, 'Louie': 33763333333}\n"
     ]
    }
   ],
   "source": [
    "Scrooges_phone.remove_contact(Launchpads_phone)\n",
    "print(Scrooges_phone.contact_list)"
   ]
  },
  {
   "cell_type": "code",
   "execution_count": 118,
   "metadata": {
    "hidden": true
   },
   "outputs": [
    {
     "name": "stdout",
     "output_type": "stream",
     "text": [
      "Dialing Louie\n",
      "Operation is finished\n"
     ]
    }
   ],
   "source": [
    "Scrooges_phone.make_a_call(Louies_phone)"
   ]
  },
  {
   "cell_type": "code",
   "execution_count": 119,
   "metadata": {
    "hidden": true
   },
   "outputs": [
    {
     "name": "stdout",
     "output_type": "stream",
     "text": [
      "['Louie']\n",
      "['33760000000']\n"
     ]
    }
   ],
   "source": [
    "print(Scrooges_phone.made_calls)\n",
    "print(Louies_phone.received_calls)"
   ]
  },
  {
   "cell_type": "code",
   "execution_count": 120,
   "metadata": {
    "hidden": true
   },
   "outputs": [
    {
     "name": "stdout",
     "output_type": "stream",
     "text": [
      "[]\n",
      "[]\n"
     ]
    }
   ],
   "source": [
    "print(Scrooges_phone.received_calls)\n",
    "print(Louies_phone.made_calls)"
   ]
  },
  {
   "cell_type": "code",
   "execution_count": 121,
   "metadata": {
    "hidden": true
   },
   "outputs": [
    {
     "name": "stdout",
     "output_type": "stream",
     "text": [
      "Sending a SMS to 33762222222\n",
      "Operation is finished\n"
     ]
    }
   ],
   "source": [
    "Louies_phone.send_an_sms(Deweys_phone, 'Hey Dewey! Uncle Scrooge is leaving to Olympia! Let\\'s join him! I know Huey is with you, so let him know as well!\\nLouey')"
   ]
  },
  {
   "cell_type": "code",
   "execution_count": 127,
   "metadata": {
    "hidden": true
   },
   "outputs": [
    {
     "name": "stdout",
     "output_type": "stream",
     "text": [
      "Hey Dewey! Uncle Scrooge is leaving to Olympia! Let's join him! I know Huey is with you, so let him know as well!\n",
      "Louey\n"
     ]
    }
   ],
   "source": [
    "print(Louies_phone.sent_sms[1]['33762222222'])"
   ]
  },
  {
   "cell_type": "code",
   "execution_count": 130,
   "metadata": {
    "hidden": true
   },
   "outputs": [
    {
     "name": "stdout",
     "output_type": "stream",
     "text": [
      "Hey Dewey! Uncle Scrooge is leaving to Olympia! Let's join him! I know Huey is with you, so let him know as well!\n",
      "Louey\n"
     ]
    }
   ],
   "source": [
    "print(Deweys_phone.received_sms[1]['33763333333'])"
   ]
  },
  {
   "cell_type": "code",
   "execution_count": 131,
   "metadata": {
    "hidden": true
   },
   "outputs": [],
   "source": [
    "Launchpads_phone.make_a_photo()"
   ]
  },
  {
   "cell_type": "code",
   "execution_count": 132,
   "metadata": {
    "hidden": true
   },
   "outputs": [
    {
     "data": {
      "text/plain": [
       "['1.png']"
      ]
     },
     "execution_count": 132,
     "metadata": {},
     "output_type": "execute_result"
    }
   ],
   "source": [
    "Launchpads_phone.library_of_photos"
   ]
  },
  {
   "cell_type": "markdown",
   "metadata": {
    "hidden": true
   },
   "source": [
    "As you can see, now we can create several objects and if we store all the objects of this class on some cloud, we can actually connect them. This is the simpliest messenger. And yeah, we can make it work in real life as well :D"
   ]
  },
  {
   "cell_type": "markdown",
   "metadata": {
    "hidden": true
   },
   "source": [
    "OOP is more complex than that, but that's already something! In Data Analytics all the libraries we're going to use were created with OOP approach. That's the main reason of studying it. But in average project there is a high chance you gonna stop on Functional Programming. "
   ]
  },
  {
   "cell_type": "markdown",
   "metadata": {
    "hidden": true
   },
   "source": [
    "## When to Use Functional vs. OOP\n",
    "\n",
    "Remember what I said earlier? Functional programming is useful if:\n",
    "\n",
    "* Language can be fully functional language, eg: Lisp, Haskell, Visual Basic, etc.\n",
    "* You have a fixed number of variables and you apply different operations to them.\n",
    "\n",
    "And OOP is usefil if:\n",
    "* Language you are using supports OOP, eg: Java, JavaScript, C++, PHP, etc.\n",
    "* You have a fixed number of operations and you apply them on a different objects.\n",
    "\n",
    "In other words, functional programming is great when you are building something that does not mimic the real world, while OOP is great when you are building something that may reflect the real world. For example, you might build a utility library to automize routine processes such as data cleaning. You are going to work with lots of different datasets and the approaches you are going to implement won't vary that much. Inputs are exactly the same - integers, strings, lists, dictionaries, etc. So, you go for Functional Programming.\n",
    "\n",
    "On the other hand you could create a library for your company that operates with all the datapoints you handle. For instance, you could have the following objects - Products, Clients, Branches, and a bunch of operations made on this growing set of objects. At the same time, we don't care about the set of objects - they will inherit all the operations predefined for each of them. But, when it comes to operations - additional operation will lead to new database."
   ]
  },
  {
   "cell_type": "markdown",
   "metadata": {
    "heading_collapsed": true
   },
   "source": [
    "# Error Handling"
   ]
  },
  {
   "cell_type": "markdown",
   "metadata": {
    "hidden": true
   },
   "source": [
    "No matter which paradigm we use to develop our code, we end up making errors. \n",
    "\n",
    "Errors can appear due to misspelling, wrong data type, not acceptable values, mathematical errors, misreading the documentation and so on. But the main Python errors can be groupped into:\n",
    "\n",
    "1. **SyntaxError** - When code has been typed incorrectly. # check spelling\n",
    "2. **AttributeError** - When you try to access an attribute on an object that does not exist. # check documentation\n",
    "3. **KeyError** - When you try to access a key in a dictionary that does not exist. # print your dictionary\n",
    "4. **TypeError** - When an argument to a function is not of the right type (e.g. a str instead of int).\n",
    "5. **ValueError** - When an argument to a function is of the right type but is not in the right domain (e.g. an empty string).\n",
    "6. **ImportError** - When an import fails. # check whether library/file exists\n",
    "7. **IOError** - When Python cannot access a file correctly on disk. # check whether you are in the correct repo\n",
    "\n",
    "In addition to letting you know the type of error, Python will also provide an error message that tells you specifically why you are receiving the error."
   ]
  },
  {
   "cell_type": "code",
   "execution_count": 2,
   "metadata": {
    "hidden": true
   },
   "outputs": [
    {
     "ename": "ImportError",
     "evalue": "cannot import name 'does_not_exist' from 'pandas' (/home/mauritian/yes/lib/python3.7/site-packages/pandas/__init__.py)",
     "output_type": "error",
     "traceback": [
      "\u001b[0;31m---------------------------------------------------------------------------\u001b[0m",
      "\u001b[0;31mImportError\u001b[0m                               Traceback (most recent call last)",
      "\u001b[0;32m<ipython-input-2-e9d71fb092be>\u001b[0m in \u001b[0;36m<module>\u001b[0;34m\u001b[0m\n\u001b[0;32m----> 1\u001b[0;31m \u001b[0;32mfrom\u001b[0m \u001b[0mpandas\u001b[0m \u001b[0;32mimport\u001b[0m \u001b[0mdoes_not_exist\u001b[0m\u001b[0;34m\u001b[0m\u001b[0;34m\u001b[0m\u001b[0m\n\u001b[0m",
      "\u001b[0;31mImportError\u001b[0m: cannot import name 'does_not_exist' from 'pandas' (/home/mauritian/yes/lib/python3.7/site-packages/pandas/__init__.py)"
     ]
    }
   ],
   "source": [
    "from pandas import does_not_exist"
   ]
  },
  {
   "cell_type": "markdown",
   "metadata": {
    "hidden": true
   },
   "source": [
    "Above you can find a silly example of getting an error. I tried to import a function/class that doesn't exist in `pandas` library.\n",
    "\n",
    "Python noted the type of Error (`ImportError`) and error message (`cannot import name 'does_not_exist' from 'pandas'`). Apart from it, it also shows on which line of the code you got your error appearing. That helps you debug your code, so you always know what went wrong and where it went wrong."
   ]
  },
  {
   "cell_type": "code",
   "execution_count": 3,
   "metadata": {
    "hidden": true
   },
   "outputs": [
    {
     "ename": "NameError",
     "evalue": "name 'does_not_exist' is not defined",
     "output_type": "error",
     "traceback": [
      "\u001b[0;31m---------------------------------------------------------------------------\u001b[0m",
      "\u001b[0;31mNameError\u001b[0m                                 Traceback (most recent call last)",
      "\u001b[0;32m<ipython-input-3-a618a22c8f58>\u001b[0m in \u001b[0;36m<module>\u001b[0;34m\u001b[0m\n\u001b[1;32m      2\u001b[0m     \u001b[0mprint\u001b[0m\u001b[0;34m(\u001b[0m\u001b[0mdoes_not_exist\u001b[0m\u001b[0;34m)\u001b[0m\u001b[0;34m\u001b[0m\u001b[0;34m\u001b[0m\u001b[0m\n\u001b[1;32m      3\u001b[0m \u001b[0;34m\u001b[0m\u001b[0m\n\u001b[0;32m----> 4\u001b[0;31m \u001b[0mfunc\u001b[0m\u001b[0;34m(\u001b[0m\u001b[0;34m'this is a string'\u001b[0m\u001b[0;34m)\u001b[0m\u001b[0;34m\u001b[0m\u001b[0;34m\u001b[0m\u001b[0m\n\u001b[0m",
      "\u001b[0;32m<ipython-input-3-a618a22c8f58>\u001b[0m in \u001b[0;36mfunc\u001b[0;34m(string)\u001b[0m\n\u001b[1;32m      1\u001b[0m \u001b[0;32mdef\u001b[0m \u001b[0mfunc\u001b[0m\u001b[0;34m(\u001b[0m\u001b[0mstring\u001b[0m\u001b[0;34m)\u001b[0m\u001b[0;34m:\u001b[0m\u001b[0;34m\u001b[0m\u001b[0;34m\u001b[0m\u001b[0m\n\u001b[0;32m----> 2\u001b[0;31m     \u001b[0mprint\u001b[0m\u001b[0;34m(\u001b[0m\u001b[0mdoes_not_exist\u001b[0m\u001b[0;34m)\u001b[0m\u001b[0;34m\u001b[0m\u001b[0;34m\u001b[0m\u001b[0m\n\u001b[0m\u001b[1;32m      3\u001b[0m \u001b[0;34m\u001b[0m\u001b[0m\n\u001b[1;32m      4\u001b[0m \u001b[0mfunc\u001b[0m\u001b[0;34m(\u001b[0m\u001b[0;34m'this is a string'\u001b[0m\u001b[0;34m)\u001b[0m\u001b[0;34m\u001b[0m\u001b[0;34m\u001b[0m\u001b[0m\n",
      "\u001b[0;31mNameError\u001b[0m: name 'does_not_exist' is not defined"
     ]
    }
   ],
   "source": [
    "def func(string):\n",
    "    print(does_not_exist)\n",
    " \n",
    "func('this is a string')"
   ]
  },
  {
   "cell_type": "markdown",
   "metadata": {
    "hidden": true
   },
   "source": [
    "As we can see, in the example above we tried to print the variable `does_not_exist` that doesn't exist in the function. So, Python tells us that the error occured when we called the function and besides that it shows the exact line in the function where the error occured."
   ]
  },
  {
   "cell_type": "markdown",
   "metadata": {
    "hidden": true
   },
   "source": [
    "How do we deal with all of those errors? Why do we care about them in fact? \n",
    "\n",
    "## Why do we care?\n",
    "\n",
    "Most of us have ever tried to play some computer games. And as you can imagine, most of games are quite complex, that doesn't allow developers to take into consideration all the errors appearing in the game. \n",
    "\n",
    "Imagine you develop a new feature that can boost sells of your game. This happened to \"NBA 2K15\" when they tried to implement face scan feature to let players play games using their own faces for players. Unfortunately, this feature was not handled well, so you can take a look on what happened below."
   ]
  },
  {
   "cell_type": "code",
   "execution_count": 14,
   "metadata": {
    "hidden": true
   },
   "outputs": [
    {
     "data": {
      "text/html": [
       "\n",
       "        <iframe\n",
       "            width=\"560\"\n",
       "            height=\"315\"\n",
       "            src=\"https://www.youtube.com/embed/EoMxR0GVyLc\"\n",
       "            frameborder=\"0\"\n",
       "            allowfullscreen\n",
       "        ></iframe>\n",
       "        "
      ],
      "text/plain": [
       "<IPython.lib.display.IFrame at 0x7fe9db773bd0>"
      ]
     },
     "execution_count": 14,
     "metadata": {},
     "output_type": "execute_result"
    }
   ],
   "source": [
    "from IPython.display import IFrame\n",
    "IFrame('https://www.youtube.com/embed/EoMxR0GVyLc', width=560, height=315)"
   ]
  },
  {
   "cell_type": "markdown",
   "metadata": {
    "hidden": true
   },
   "source": [
    "Errors will happen in a production environment, for example:\n",
    "- People try to run your code on unsupported hardware (or duff video driver) or without some libraries being installed;\n",
    "- Data files going missing or becoming corrupted;\n",
    "- The disc becoming full while trying to save a files or run heavy code;\n",
    "- People are just being dumb, trying to divide 10 by 'helicopter'\n",
    "\n",
    "So you can't just compile them out and forget about them. The action required depends on what the code is doing at the time.\n",
    "\n",
    "Errors during code runtime will likely be caused by things that cannot be fixed by Python itself, so they will lead to the broken code and error message that your end user will see. You don't want your code to break after 5 minutes of runtime for instance, especially when the output is not returned and you need to rerun your code (means at least additional 5 min of runtime). "
   ]
  },
  {
   "cell_type": "markdown",
   "metadata": {
    "hidden": true
   },
   "source": [
    "And yeah, I believe you had such a pleasant experience when you've been working on some text file for few hours (it becomes even more pleasant when you don't have a habit to save your work every now and then) and your PC crushes showing you the Blue Screen of Death...\n",
    "<img src='https://upload.wikimedia.org/wikipedia/commons/5/56/Bsodwindows10.png' width='700'>"
   ]
  },
  {
   "cell_type": "markdown",
   "metadata": {
    "hidden": true
   },
   "source": [
    "For sure you don't want your users experience as wonderful situation as the one above..."
   ]
  },
  {
   "cell_type": "markdown",
   "metadata": {
    "hidden": true
   },
   "source": [
    "## What do I do then?"
   ]
  },
  {
   "cell_type": "markdown",
   "metadata": {
    "hidden": true
   },
   "source": [
    "Well, there are 2 different situations:\n",
    "1. Your end user is someone who has no idea about the magic behind your code.\n",
    "2. Your end user codes in his dreams. (No worries, you will end up there soon)\n",
    "\n",
    "If you are in the first case than you have nothing else but lead your user through proper user experience. You can't accept any bags appearing in your code and you need to handle every single possible error."
   ]
  },
  {
   "cell_type": "markdown",
   "metadata": {
    "hidden": true
   },
   "source": [
    "### Full error handler"
   ]
  },
  {
   "cell_type": "code",
   "execution_count": 51,
   "metadata": {
    "hidden": true
   },
   "outputs": [],
   "source": [
    "def perimeter_trapezoid():\n",
    "    \n",
    "    \"\"\"Function calculates the perimeter of trapezoid. \n",
    "    The argument is a list of numbers\n",
    "    \"\"\"\n",
    "    flag=0\n",
    "    while flag==0:\n",
    "        list_of_dimensions=input('Please provide 4 numbers separated with comma')\n",
    "        list_of_dimensions=list_of_dimensions.split(',')\n",
    "        number_of_numeric=sum(i.replace('.','',1).isdigit() for i in list_of_dimensions)\n",
    "\n",
    "        if len(list_of_dimensions)!=4:\n",
    "            print('You are dumb! We were talking about trapezoids! Please check the number of dimesions')\n",
    "            continue \n",
    "        if number_of_numeric!=4:\n",
    "            print(\"C'mon! Dont be that stupid! We are talking about numbers here\")\n",
    "            continue\n",
    "        list_of_dimensions=[float(i) for i in list_of_dimensions]\n",
    "        \n",
    "        if sum(i<=0 for i in list_of_dimensions)>0:\n",
    "            print(\"Duh! Figure can't have negative shape or no shape at all\")\n",
    "            continue\n",
    "            \n",
    "        if max(list_of_dimensions)>=sum(list_of_dimensions)-max(list_of_dimensions):\n",
    "            print('Unfortunately, but the dimensions you provided can\\'t form a trapezoid. Try again')\n",
    "            continue\n",
    "        flag=1\n",
    "    \n",
    "    return sum(list_of_dimensions)"
   ]
  },
  {
   "cell_type": "code",
   "execution_count": 53,
   "metadata": {
    "hidden": true
   },
   "outputs": [
    {
     "name": "stdout",
     "output_type": "stream",
     "text": [
      "Please provide 4 numbers separated with comma1,2,3,h\n",
      "C'mon! Dont be that stupid! We are talking about numbers here\n",
      "Please provide 4 numbers separated with commah,h,h,h\n",
      "C'mon! Dont be that stupid! We are talking about numbers here\n",
      "Please provide 4 numbers separated with comma1,2,3,10\n",
      "Unfortunately, but the dimensions you provided can't form a trapezoid. Try again\n",
      "Please provide 4 numbers separated with comma1,2,2,2\n"
     ]
    },
    {
     "data": {
      "text/plain": [
       "7.0"
      ]
     },
     "execution_count": 53,
     "metadata": {},
     "output_type": "execute_result"
    }
   ],
   "source": [
    "perimeter_trapezoid()"
   ]
  },
  {
   "cell_type": "markdown",
   "metadata": {
    "hidden": true
   },
   "source": [
    "In the code above we are trying to calculate a perimeter of trapezoid. It should have 4 dimensions as inputs, and yeah, those inputs must be numerical ones. Besides that, the figure can't have negative dimensions, so it should be also checked. \n",
    "\n",
    "Apart from the simple tests, we also need to be sure that dimensions can actually form a trapezoid. According to Quadrilateral Inequality, we need the following inequality to be hold:\n",
    "\n",
    "$$a< b+c+d$$\n",
    "for any a,b,c,d being the dimensions of quadrilateral. That should be checked as well.\n",
    "\n",
    "As you can see, the main body of the function is simply error handler. The core part of the code is in input statement, transformation into numbers statement and return statement. Therefore the code could be simplified into 4 lines. Instead we are producing a self contained code that will never return neither Python error message, nor mathematically absurd answer."
   ]
  },
  {
   "cell_type": "markdown",
   "metadata": {
    "hidden": true
   },
   "source": [
    "### Try Except Finally"
   ]
  },
  {
   "cell_type": "markdown",
   "metadata": {
    "hidden": true
   },
   "source": [
    "As you can imagine, sometimes you just can't handle all the errors. \n",
    "\n",
    "Big companies hire QA Testers that would crush test their code. It is a long routine work that allows improve the quality of final product. But what if you need to submit your code tomorrow morning? You can't spend the whole night fixing errors and you don't have a right to share your code on outsource. What would you do?\n",
    "\n",
    "You can just run a global exception statement.\n",
    "```python\n",
    "try:\n",
    "    statement\n",
    "except [optionally ErrorType]:\n",
    "    do something\n",
    "else:\n",
    "    what should be done if there is no error on except statement\n",
    "finally:\n",
    "    what should be done in the end of the day no matter what\n",
    "```"
   ]
  },
  {
   "cell_type": "code",
   "execution_count": 7,
   "metadata": {
    "hidden": true
   },
   "outputs": [
    {
     "name": "stdout",
     "output_type": "stream",
     "text": [
      "1 divided by 2 is 0.5\n",
      "final output is 0.5\n",
      "\n",
      "do not divide by 0\n",
      "final output is None\n",
      "\n"
     ]
    },
    {
     "ename": "UnboundLocalError",
     "evalue": "local variable 'c' referenced before assignment",
     "output_type": "error",
     "traceback": [
      "\u001b[0;31m---------------------------------------------------------------------------\u001b[0m",
      "\u001b[0;31mTypeError\u001b[0m                                 Traceback (most recent call last)",
      "\u001b[0;32m<ipython-input-7-9540722f9dfb>\u001b[0m in \u001b[0;36mfoo\u001b[0;34m(a, b)\u001b[0m\n\u001b[1;32m      2\u001b[0m     \u001b[0;32mtry\u001b[0m\u001b[0;34m:\u001b[0m\u001b[0;34m\u001b[0m\u001b[0;34m\u001b[0m\u001b[0m\n\u001b[0;32m----> 3\u001b[0;31m         \u001b[0mc\u001b[0m\u001b[0;34m=\u001b[0m\u001b[0ma\u001b[0m\u001b[0;34m/\u001b[0m\u001b[0mb\u001b[0m\u001b[0;34m\u001b[0m\u001b[0;34m\u001b[0m\u001b[0m\n\u001b[0m\u001b[1;32m      4\u001b[0m     \u001b[0;32mexcept\u001b[0m \u001b[0mZeroDivisionError\u001b[0m\u001b[0;34m:\u001b[0m\u001b[0;34m\u001b[0m\u001b[0;34m\u001b[0m\u001b[0m\n",
      "\u001b[0;31mTypeError\u001b[0m: unsupported operand type(s) for /: 'str' and 'int'",
      "\nDuring handling of the above exception, another exception occurred:\n",
      "\u001b[0;31mUnboundLocalError\u001b[0m                         Traceback (most recent call last)",
      "\u001b[0;32m<ipython-input-7-9540722f9dfb>\u001b[0m in \u001b[0;36m<module>\u001b[0;34m\u001b[0m\n\u001b[1;32m     15\u001b[0m \u001b[0mfoo\u001b[0m\u001b[0;34m(\u001b[0m\u001b[0;36m1\u001b[0m\u001b[0;34m,\u001b[0m\u001b[0;36m0\u001b[0m\u001b[0;34m)\u001b[0m\u001b[0;34m\u001b[0m\u001b[0;34m\u001b[0m\u001b[0m\n\u001b[1;32m     16\u001b[0m \u001b[0mprint\u001b[0m\u001b[0;34m(\u001b[0m\u001b[0;34m)\u001b[0m\u001b[0;34m\u001b[0m\u001b[0;34m\u001b[0m\u001b[0m\n\u001b[0;32m---> 17\u001b[0;31m \u001b[0mfoo\u001b[0m\u001b[0;34m(\u001b[0m\u001b[0;34m'k'\u001b[0m\u001b[0;34m,\u001b[0m\u001b[0;36m0\u001b[0m\u001b[0;34m)\u001b[0m\u001b[0;34m\u001b[0m\u001b[0;34m\u001b[0m\u001b[0m\n\u001b[0m",
      "\u001b[0;32m<ipython-input-7-9540722f9dfb>\u001b[0m in \u001b[0;36mfoo\u001b[0;34m(a, b)\u001b[0m\n\u001b[1;32m      8\u001b[0m         \u001b[0mprint\u001b[0m\u001b[0;34m(\u001b[0m\u001b[0;34mf'{a} divided by {b} is'\u001b[0m\u001b[0;34m,\u001b[0m\u001b[0mc\u001b[0m\u001b[0;34m)\u001b[0m\u001b[0;34m\u001b[0m\u001b[0;34m\u001b[0m\u001b[0m\n\u001b[1;32m      9\u001b[0m     \u001b[0;32mfinally\u001b[0m\u001b[0;34m:\u001b[0m\u001b[0;34m\u001b[0m\u001b[0;34m\u001b[0m\u001b[0m\n\u001b[0;32m---> 10\u001b[0;31m         \u001b[0mprint\u001b[0m\u001b[0;34m(\u001b[0m\u001b[0;34m'final output is'\u001b[0m\u001b[0;34m,\u001b[0m\u001b[0mc\u001b[0m\u001b[0;34m)\u001b[0m\u001b[0;34m\u001b[0m\u001b[0;34m\u001b[0m\u001b[0m\n\u001b[0m\u001b[1;32m     11\u001b[0m     \u001b[0;32mreturn\u001b[0m\u001b[0;34m\u001b[0m\u001b[0;34m\u001b[0m\u001b[0m\n\u001b[1;32m     12\u001b[0m \u001b[0;34m\u001b[0m\u001b[0m\n",
      "\u001b[0;31mUnboundLocalError\u001b[0m: local variable 'c' referenced before assignment"
     ]
    }
   ],
   "source": [
    "def foo(a,b):\n",
    "    try:\n",
    "        c=a/b\n",
    "    except ZeroDivisionError:\n",
    "        print('do not divide by 0')\n",
    "        c=None\n",
    "    else:\n",
    "        print(f'{a} divided by {b} is',c)\n",
    "    finally:\n",
    "        print('final output is',c)\n",
    "    return \n",
    "\n",
    "foo(1,2)\n",
    "print()\n",
    "foo(1,0)\n",
    "print()\n",
    "foo('k',0)"
   ]
  },
  {
   "cell_type": "markdown",
   "metadata": {
    "hidden": true
   },
   "source": [
    "In the example above we defined a function that handles the division by 0 problem. We all know that we can't divide by zero, hence, we need to handle this error.\n",
    "* If the operation doesn't end up in the `ZeroDivisionError`, our division holds fine.\n",
    "* If the operation ends up in the `ZeroDivisionError`, we receive an error message and division is not done.\n",
    "* If the operation ends up in any error other then `ZeroDivisionError`, we receive a Python error that wasn't handled well."
   ]
  },
  {
   "cell_type": "markdown",
   "metadata": {
    "hidden": true
   },
   "source": [
    "**BUT!!!**\n",
    "`Try-Except` statement is not accepted in daily code. You can't simply go with it. You need to clean your code as much as possible. The only exception can be made if your error appears due to force major situation that can't be handled programmatically. For example, network error while trying to access data from web. You can't handle those results in any way, hence, this statement is acceptable. We are going to discuss this issue later on."
   ]
  },
  {
   "cell_type": "markdown",
   "metadata": {
    "hidden": true
   },
   "source": [
    "## Raise your own error\n",
    "\n",
    "When your end user is developer, you know that user can handle errors by himself. What you want to implement is a code that runs if user follows instructions, **that you listed in docstrings**. At the same time, if it happened that user didn't follow the instructions you need to raise an error that would explicitely tell user what went wrong. \n",
    "\n",
    "Here comes `raise` statement.\n",
    "\n",
    "```python\n",
    "except ErrorType(\"Error message\")\n",
    "```"
   ]
  },
  {
   "cell_type": "code",
   "execution_count": 8,
   "metadata": {
    "hidden": true
   },
   "outputs": [
    {
     "ename": "ValueError",
     "evalue": "The number entered is not even!",
     "output_type": "error",
     "traceback": [
      "\u001b[0;31m---------------------------------------------------------------------------\u001b[0m",
      "\u001b[0;31mValueError\u001b[0m                                Traceback (most recent call last)",
      "\u001b[0;32m<ipython-input-8-195aa3301700>\u001b[0m in \u001b[0;36m<module>\u001b[0;34m\u001b[0m\n\u001b[1;32m      5\u001b[0m         \u001b[0mprint\u001b[0m\u001b[0;34m(\u001b[0m\u001b[0;34m\"Number accepted.\"\u001b[0m\u001b[0;34m)\u001b[0m\u001b[0;34m\u001b[0m\u001b[0;34m\u001b[0m\u001b[0m\n\u001b[1;32m      6\u001b[0m \u001b[0;34m\u001b[0m\u001b[0m\n\u001b[0;32m----> 7\u001b[0;31m \u001b[0meven_number\u001b[0m\u001b[0;34m(\u001b[0m\u001b[0;36m3\u001b[0m\u001b[0;34m)\u001b[0m\u001b[0;34m\u001b[0m\u001b[0;34m\u001b[0m\u001b[0m\n\u001b[0m",
      "\u001b[0;32m<ipython-input-8-195aa3301700>\u001b[0m in \u001b[0;36meven_number\u001b[0;34m(number)\u001b[0m\n\u001b[1;32m      1\u001b[0m \u001b[0;32mdef\u001b[0m \u001b[0meven_number\u001b[0m\u001b[0;34m(\u001b[0m\u001b[0mnumber\u001b[0m\u001b[0;34m)\u001b[0m\u001b[0;34m:\u001b[0m\u001b[0;34m\u001b[0m\u001b[0;34m\u001b[0m\u001b[0m\n\u001b[1;32m      2\u001b[0m     \u001b[0;32mif\u001b[0m \u001b[0mnumber\u001b[0m \u001b[0;34m%\u001b[0m \u001b[0;36m2\u001b[0m \u001b[0;34m!=\u001b[0m \u001b[0;36m0\u001b[0m\u001b[0;34m:\u001b[0m\u001b[0;34m\u001b[0m\u001b[0;34m\u001b[0m\u001b[0m\n\u001b[0;32m----> 3\u001b[0;31m         \u001b[0;32mraise\u001b[0m \u001b[0mValueError\u001b[0m\u001b[0;34m(\u001b[0m\u001b[0;34m\"The number entered is not even!\"\u001b[0m\u001b[0;34m)\u001b[0m\u001b[0;34m\u001b[0m\u001b[0;34m\u001b[0m\u001b[0m\n\u001b[0m\u001b[1;32m      4\u001b[0m     \u001b[0;32melse\u001b[0m\u001b[0;34m:\u001b[0m\u001b[0;34m\u001b[0m\u001b[0;34m\u001b[0m\u001b[0m\n\u001b[1;32m      5\u001b[0m         \u001b[0mprint\u001b[0m\u001b[0;34m(\u001b[0m\u001b[0;34m\"Number accepted.\"\u001b[0m\u001b[0;34m)\u001b[0m\u001b[0;34m\u001b[0m\u001b[0;34m\u001b[0m\u001b[0m\n",
      "\u001b[0;31mValueError\u001b[0m: The number entered is not even!"
     ]
    }
   ],
   "source": [
    "def even_number(number):\n",
    "    if number % 2 != 0:\n",
    "        raise ValueError(\"The number entered is not even!\")\n",
    "    else:\n",
    "        print(\"Number accepted.\")\n",
    "        \n",
    "even_number(3)"
   ]
  },
  {
   "cell_type": "markdown",
   "metadata": {
    "hidden": true
   },
   "source": [
    "In the example above we defined a function that checks whether the number is even. In negative case - the `ValueError` is raised with the proper error message. \n",
    "\n",
    "The list of error types can be found [here](https://www.programiz.com/python-programming/exceptions).\n",
    "\n",
    "And yeah, you also can define your own error types:\n",
    "\n",
    "```python\n",
    "class ErrorName(Exception):\n",
    "    pass\n",
    "```"
   ]
  },
  {
   "cell_type": "code",
   "execution_count": 12,
   "metadata": {
    "hidden": true
   },
   "outputs": [
    {
     "ename": "MyownError",
     "evalue": "crocodile",
     "output_type": "error",
     "traceback": [
      "\u001b[0;31m---------------------------------------------------------------------------\u001b[0m",
      "\u001b[0;31mMyownError\u001b[0m                                Traceback (most recent call last)",
      "\u001b[0;32m<ipython-input-12-6a7e9b68f2e3>\u001b[0m in \u001b[0;36m<module>\u001b[0;34m\u001b[0m\n\u001b[1;32m      2\u001b[0m     \u001b[0;32mpass\u001b[0m\u001b[0;34m\u001b[0m\u001b[0;34m\u001b[0m\u001b[0m\n\u001b[1;32m      3\u001b[0m \u001b[0;34m\u001b[0m\u001b[0m\n\u001b[0;32m----> 4\u001b[0;31m \u001b[0;32mraise\u001b[0m \u001b[0mMyownError\u001b[0m\u001b[0;34m(\u001b[0m\u001b[0;34m'crocodile'\u001b[0m\u001b[0;34m)\u001b[0m\u001b[0;34m\u001b[0m\u001b[0;34m\u001b[0m\u001b[0m\n\u001b[0m",
      "\u001b[0;31mMyownError\u001b[0m: crocodile"
     ]
    }
   ],
   "source": [
    "class MyownError(Exception):\n",
    "    pass\n",
    "\n",
    "raise MyownError('crocodile')"
   ]
  }
 ],
 "metadata": {
  "kernelspec": {
   "display_name": "Python 3",
   "language": "python",
   "name": "python3"
  },
  "language_info": {
   "codemirror_mode": {
    "name": "ipython",
    "version": 3
   },
   "file_extension": ".py",
   "mimetype": "text/x-python",
   "name": "python",
   "nbconvert_exporter": "python",
   "pygments_lexer": "ipython3",
   "version": "3.7.6"
  },
  "toc": {
   "base_numbering": 1,
   "nav_menu": {},
   "number_sections": true,
   "sideBar": true,
   "skip_h1_title": false,
   "title_cell": "Table of Contents",
   "title_sidebar": "Contents",
   "toc_cell": true,
   "toc_position": {},
   "toc_section_display": true,
   "toc_window_display": false
  }
 },
 "nbformat": 4,
 "nbformat_minor": 4
}
