{
 "cells": [
  {
   "cell_type": "markdown",
   "metadata": {},
   "source": [
    "# Poker Probas"
   ]
  },
  {
   "cell_type": "code",
   "execution_count": 1,
   "metadata": {},
   "outputs": [],
   "source": [
    "cards=52\n",
    "\n",
    "aces=4\n",
    "proba=aces/cards"
   ]
  },
  {
   "cell_type": "code",
   "execution_count": 7,
   "metadata": {},
   "outputs": [
    {
     "name": "stdout",
     "output_type": "stream",
     "text": [
      "8.0%\n"
     ]
    }
   ],
   "source": [
    "print(str(round(proba*100,0))+'%')"
   ]
  },
  {
   "cell_type": "code",
   "execution_count": 8,
   "metadata": {},
   "outputs": [],
   "source": [
    "def proba(good_events, total_events):\n",
    "    return print(str(round(good_events/total_events*100,0))+'%')"
   ]
  },
  {
   "cell_type": "code",
   "execution_count": 9,
   "metadata": {},
   "outputs": [
    {
     "name": "stdout",
     "output_type": "stream",
     "text": [
      "8.0%\n"
     ]
    }
   ],
   "source": [
    "proba(4,52)"
   ]
  },
  {
   "cell_type": "code",
   "execution_count": 10,
   "metadata": {},
   "outputs": [
    {
     "name": "stdout",
     "output_type": "stream",
     "text": [
      "25.0%\n"
     ]
    }
   ],
   "source": [
    "hearts=13\n",
    "proba(hearts,cards)"
   ]
  },
  {
   "cell_type": "code",
   "execution_count": 11,
   "metadata": {},
   "outputs": [
    {
     "name": "stdout",
     "output_type": "stream",
     "text": [
      "23.0%\n"
     ]
    }
   ],
   "source": [
    "faces=12\n",
    "proba(faces,cards)"
   ]
  },
  {
   "cell_type": "code",
   "execution_count": 12,
   "metadata": {},
   "outputs": [
    {
     "name": "stdout",
     "output_type": "stream",
     "text": [
      "2.0%\n"
     ]
    }
   ],
   "source": [
    "queen_of_hearts=1\n",
    "proba(queen_of_hearts,cards)"
   ]
  },
  {
   "cell_type": "code",
   "execution_count": 13,
   "metadata": {},
   "outputs": [
    {
     "name": "stdout",
     "output_type": "stream",
     "text": [
      "8.0%\n"
     ]
    }
   ],
   "source": [
    "aces=4\n",
    "proba(aces,cards)"
   ]
  },
  {
   "cell_type": "code",
   "execution_count": 14,
   "metadata": {},
   "outputs": [
    {
     "name": "stdout",
     "output_type": "stream",
     "text": [
      "6.0%\n"
     ]
    }
   ],
   "source": [
    "proba(aces-1,cards-1)"
   ]
  },
  {
   "cell_type": "code",
   "execution_count": 15,
   "metadata": {},
   "outputs": [
    {
     "data": {
      "text/plain": [
       "0.004524886877828055"
      ]
     },
     "execution_count": 15,
     "metadata": {},
     "output_type": "execute_result"
    }
   ],
   "source": [
    "4/52*3/51"
   ]
  },
  {
   "cell_type": "code",
   "execution_count": 16,
   "metadata": {},
   "outputs": [],
   "source": [
    "cards=52\n",
    "hands=2\n",
    "table=4\n",
    "cards-=(hands+table)"
   ]
  },
  {
   "cell_type": "code",
   "execution_count": 18,
   "metadata": {},
   "outputs": [
    {
     "name": "stdout",
     "output_type": "stream",
     "text": [
      "20.0%\n"
     ]
    }
   ],
   "source": [
    "diamonds=13\n",
    "diamonds_left=diamonds-4\n",
    "proba(diamonds_left,cards)"
   ]
  },
  {
   "cell_type": "code",
   "execution_count": 19,
   "metadata": {},
   "outputs": [
    {
     "name": "stdout",
     "output_type": "stream",
     "text": [
      "17.0%\n"
     ]
    }
   ],
   "source": [
    "cards=52\n",
    "hands=2\n",
    "table=4\n",
    "cards-=(hands+table)\n",
    "\n",
    "outs=8\n",
    "proba(outs,cards)"
   ]
  },
  {
   "cell_type": "code",
   "execution_count": 20,
   "metadata": {},
   "outputs": [
    {
     "name": "stdout",
     "output_type": "stream",
     "text": [
      "9.0%\n"
     ]
    }
   ],
   "source": [
    "cards=52\n",
    "hands=2\n",
    "table=4\n",
    "cards-=(hands+table)\n",
    "\n",
    "outs=4\n",
    "proba(outs,cards)"
   ]
  },
  {
   "cell_type": "code",
   "execution_count": 21,
   "metadata": {},
   "outputs": [
    {
     "name": "stdout",
     "output_type": "stream",
     "text": [
      "50.0%\n"
     ]
    }
   ],
   "source": [
    "#hearts or clubs\n",
    "\n",
    "cards=52\n",
    "outs=26 #13 hearts + 13 cubs\n",
    "\n",
    "proba(outs,cards)"
   ]
  },
  {
   "cell_type": "code",
   "execution_count": 23,
   "metadata": {},
   "outputs": [
    {
     "name": "stdout",
     "output_type": "stream",
     "text": [
      "42.0%\n"
     ]
    }
   ],
   "source": [
    "#hearts or faces\n",
    "\n",
    "cards=52\n",
    "hearts=13\n",
    "faces=12\n",
    "\n",
    "heart_faces=3\n",
    "\n",
    "outs=hearts+faces-heart_faces\n",
    "\n",
    "proba(outs,cards)"
   ]
  },
  {
   "cell_type": "code",
   "execution_count": 24,
   "metadata": {},
   "outputs": [
    {
     "name": "stdout",
     "output_type": "stream",
     "text": [
      "62.0%\n"
     ]
    }
   ],
   "source": [
    "#red card or face\n",
    "\n",
    "cards=52\n",
    "red=26\n",
    "faces=12\n",
    "\n",
    "red_faces=6\n",
    "\n",
    "outs=red+faces-red_faces\n",
    "\n",
    "proba(outs,cards)"
   ]
  },
  {
   "cell_type": "code",
   "execution_count": 25,
   "metadata": {},
   "outputs": [
    {
     "data": {
      "text/plain": [
       "0.00591715976331361"
      ]
     },
     "execution_count": 25,
     "metadata": {},
     "output_type": "execute_result"
    }
   ],
   "source": [
    "#independent events take an ace, replace, take second ace\n",
    "\n",
    "ace_proba=4/52\n",
    "\n",
    "ace_proba*ace_proba"
   ]
  },
  {
   "cell_type": "code",
   "execution_count": 26,
   "metadata": {},
   "outputs": [
    {
     "data": {
      "text/plain": [
       "0.004524886877828055"
      ]
     },
     "execution_count": 26,
     "metadata": {},
     "output_type": "execute_result"
    }
   ],
   "source": [
    "#take 2 aces in a row without replacement\n",
    "\n",
    "4/52*3/51"
   ]
  },
  {
   "cell_type": "code",
   "execution_count": 30,
   "metadata": {},
   "outputs": [
    {
     "data": {
      "text/plain": [
       "0.38390379278445874"
      ]
     },
     "execution_count": 30,
     "metadata": {},
     "output_type": "execute_result"
    }
   ],
   "source": [
    "cards=52\n",
    "hands=2\n",
    "flop=3\n",
    "\n",
    "cards-=(hands+flop)\n",
    "\n",
    "#diamonds\n",
    "diamonds=13\n",
    "diamonds_drawn=4\n",
    "outs=diamonds-diamonds_drawn\n",
    "non_diamonds=1\n",
    "\n",
    "turn_non_diamonds=cards-outs-non_diamonds\n",
    "\n",
    "proba_no_diamond_turn=turn_non_diamonds/cards\n",
    "\n",
    "#sample space\n",
    "cards-=1\n",
    "\n",
    "#river_non_diamonds\n",
    "river_non_diamonds=turn_non_diamonds-1\n",
    "proba_no_diamond_river=river_non_diamonds/cards\n",
    "\n",
    "no_flush_proba=proba_no_diamond_turn*proba_no_diamond_river\n",
    "1-no_flush_proba"
   ]
  },
  {
   "cell_type": "code",
   "execution_count": 31,
   "metadata": {},
   "outputs": [
    {
     "data": {
      "text/plain": [
       "0.35060129509713217"
      ]
     },
     "execution_count": 31,
     "metadata": {},
     "output_type": "execute_result"
    }
   ],
   "source": [
    "1-no_flush_proba-9/47*8/46"
   ]
  },
  {
   "cell_type": "markdown",
   "metadata": {},
   "source": [
    "Expected Value"
   ]
  },
  {
   "cell_type": "code",
   "execution_count": 49,
   "metadata": {},
   "outputs": [
    {
     "data": {
      "text/plain": [
       "0.49985"
      ]
     },
     "execution_count": 49,
     "metadata": {},
     "output_type": "execute_result"
    }
   ],
   "source": [
    "\n",
    "prize=0\n",
    "omega=['head','tail']\n",
    "\n",
    "my_decision='head'\n",
    "import numpy as np\n",
    "\n",
    "for i in range(100000):\n",
    "    outcome=np.random.choice(omega)\n",
    "    if my_decision==outcome:\n",
    "        prize+=1\n",
    "    else:\n",
    "        prize-=0\n",
    "prize=prize/100000\n",
    "prize"
   ]
  },
  {
   "cell_type": "code",
   "execution_count": 51,
   "metadata": {},
   "outputs": [
    {
     "data": {
      "text/plain": [
       "75.0"
      ]
     },
     "execution_count": 51,
     "metadata": {},
     "output_type": "execute_result"
    }
   ],
   "source": [
    "pot=100\n",
    "proba_win=0.75\n",
    "expected_value=pot*proba_win\n",
    "expected_value"
   ]
  },
  {
   "cell_type": "code",
   "execution_count": 55,
   "metadata": {},
   "outputs": [
    {
     "data": {
      "text/plain": [
       "-5.4545454545454515"
      ]
     },
     "execution_count": 55,
     "metadata": {},
     "output_type": "execute_result"
    }
   ],
   "source": [
    "cards=52\n",
    "cards-=8\n",
    "\n",
    "outs=4\n",
    "140*(outs/cards)-20*(1-outs/cards)"
   ]
  },
  {
   "cell_type": "code",
   "execution_count": 57,
   "metadata": {},
   "outputs": [
    {
     "data": {
      "text/plain": [
       "0.1590909090909091"
      ]
     },
     "execution_count": 57,
     "metadata": {},
     "output_type": "execute_result"
    }
   ],
   "source": [
    "cards=52\n",
    "cards-=8\n",
    "\n",
    "diamonds=13\n",
    "diamonds_table=4\n",
    "bad_diamonds=2\n",
    "outs=diamonds-diamonds_table-bad_diamonds\n",
    "outs/cards"
   ]
  },
  {
   "cell_type": "code",
   "execution_count": 58,
   "metadata": {},
   "outputs": [
    {
     "data": {
      "text/plain": [
       "15.909090909090908"
      ]
     },
     "execution_count": 58,
     "metadata": {},
     "output_type": "execute_result"
    }
   ],
   "source": [
    "100*outs/cards #I am not paying for the last card (there was no bet from my opponent), and I win"
   ]
  },
  {
   "cell_type": "code",
   "execution_count": 59,
   "metadata": {},
   "outputs": [
    {
     "data": {
      "text/plain": [
       "5.454545454545453"
      ]
     },
     "execution_count": 59,
     "metadata": {},
     "output_type": "execute_result"
    }
   ],
   "source": [
    "140*outs/cards-20*(1-outs/cards)"
   ]
  }
 ],
 "metadata": {
  "kernelspec": {
   "display_name": "Python 3",
   "language": "python",
   "name": "python3"
  },
  "language_info": {
   "codemirror_mode": {
    "name": "ipython",
    "version": 3
   },
   "file_extension": ".py",
   "mimetype": "text/x-python",
   "name": "python",
   "nbconvert_exporter": "python",
   "pygments_lexer": "ipython3",
   "version": "3.6.9"
  }
 },
 "nbformat": 4,
 "nbformat_minor": 2
}
